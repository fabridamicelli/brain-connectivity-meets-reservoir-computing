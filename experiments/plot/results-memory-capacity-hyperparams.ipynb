{
 "cells": [
  {
   "cell_type": "code",
   "execution_count": 1,
   "metadata": {},
   "outputs": [],
   "source": [
    "%load_ext autoreload\n",
    "%autoreload 2\n",
    "# Import and set up some basic plotting parameters\n",
    "from imports_paper_plots import *\n",
    "set_context_and_font()\n",
    "\n",
    "plt.rcParams[\"axes.facecolor\"] = \"1.\""
   ]
  },
  {
   "cell_type": "code",
   "execution_count": 2,
   "metadata": {},
   "outputs": [],
   "source": [
    "results_dir_path = Path(os.environ[\"DATAICNS\"]) / \"bioRNN/memory-capacity\"\n",
    "figs_path = results_dir_path / \"figs\""
   ]
  },
  {
   "cell_type": "markdown",
   "metadata": {},
   "source": [
    "### Don't forget to concatenate results again!"
   ]
  },
  {
   "cell_type": "code",
   "execution_count": 3,
   "metadata": {},
   "outputs": [
    {
     "data": {
      "text/html": [
       "<div>\n",
       "<style scoped>\n",
       "    .dataframe tbody tr th:only-of-type {\n",
       "        vertical-align: middle;\n",
       "    }\n",
       "\n",
       "    .dataframe tbody tr th {\n",
       "        vertical-align: top;\n",
       "    }\n",
       "\n",
       "    .dataframe thead th {\n",
       "        text-align: right;\n",
       "    }\n",
       "</style>\n",
       "<table border=\"1\" class=\"dataframe\">\n",
       "  <thead>\n",
       "    <tr style=\"text-align: right;\">\n",
       "      <th></th>\n",
       "      <th>connectome</th>\n",
       "      <th>rand_partition</th>\n",
       "      <th>neuron_density</th>\n",
       "      <th>W</th>\n",
       "      <th>bias</th>\n",
       "      <th>input_scaling</th>\n",
       "      <th>leak_rate</th>\n",
       "      <th>n_transient</th>\n",
       "      <th>spectral_radius</th>\n",
       "      <th>mean_test_memory_capacity</th>\n",
       "    </tr>\n",
       "  </thead>\n",
       "  <tbody>\n",
       "    <tr>\n",
       "      <th>0</th>\n",
       "      <td>macaque</td>\n",
       "      <td>True</td>\n",
       "      <td>1</td>\n",
       "      <td>bio_rank</td>\n",
       "      <td>1</td>\n",
       "      <td>0.000001</td>\n",
       "      <td>0.6</td>\n",
       "      <td>100</td>\n",
       "      <td>0.91</td>\n",
       "      <td>6.131167</td>\n",
       "    </tr>\n",
       "    <tr>\n",
       "      <th>1</th>\n",
       "      <td>macaque</td>\n",
       "      <td>True</td>\n",
       "      <td>1</td>\n",
       "      <td>bio_rank</td>\n",
       "      <td>1</td>\n",
       "      <td>0.000001</td>\n",
       "      <td>0.6</td>\n",
       "      <td>100</td>\n",
       "      <td>0.93</td>\n",
       "      <td>6.148464</td>\n",
       "    </tr>\n",
       "    <tr>\n",
       "      <th>2</th>\n",
       "      <td>macaque</td>\n",
       "      <td>True</td>\n",
       "      <td>1</td>\n",
       "      <td>bio_rank</td>\n",
       "      <td>1</td>\n",
       "      <td>0.000001</td>\n",
       "      <td>0.6</td>\n",
       "      <td>100</td>\n",
       "      <td>0.95</td>\n",
       "      <td>6.287349</td>\n",
       "    </tr>\n",
       "  </tbody>\n",
       "</table>\n",
       "</div>"
      ],
      "text/plain": [
       "  connectome  rand_partition  neuron_density         W  bias  input_scaling  \\\n",
       "0    macaque            True               1  bio_rank     1       0.000001   \n",
       "1    macaque            True               1  bio_rank     1       0.000001   \n",
       "2    macaque            True               1  bio_rank     1       0.000001   \n",
       "\n",
       "   leak_rate  n_transient  spectral_radius  mean_test_memory_capacity  \n",
       "0        0.6          100             0.91                   6.131167  \n",
       "1        0.6          100             0.93                   6.148464  \n",
       "2        0.6          100             0.95                   6.287349  "
      ]
     },
     "execution_count": 3,
     "metadata": {},
     "output_type": "execute_result"
    }
   ],
   "source": [
    "neuron_density = 1\n",
    "results_hyperparams_path = results_dir_path/\"hyperparams\"/f\"neuron-density-{neuron_density}\"/\"hyperparams_all\"\n",
    "\n",
    "results = pd.read_csv(results_hyperparams_path)\n",
    "results.head(3)"
   ]
  },
  {
   "cell_type": "code",
   "execution_count": 4,
   "metadata": {},
   "outputs": [
    {
     "data": {
      "text/html": [
       "<div>\n",
       "<style scoped>\n",
       "    .dataframe tbody tr th:only-of-type {\n",
       "        vertical-align: middle;\n",
       "    }\n",
       "\n",
       "    .dataframe tbody tr th {\n",
       "        vertical-align: top;\n",
       "    }\n",
       "\n",
       "    .dataframe thead th {\n",
       "        text-align: right;\n",
       "    }\n",
       "</style>\n",
       "<table border=\"1\" class=\"dataframe\">\n",
       "  <thead>\n",
       "    <tr style=\"text-align: right;\">\n",
       "      <th></th>\n",
       "      <th>connectome</th>\n",
       "      <th>rand_partition</th>\n",
       "      <th>neuron_density</th>\n",
       "      <th>W</th>\n",
       "      <th>input_scaling</th>\n",
       "      <th>leak_rate</th>\n",
       "      <th>spectral_radius</th>\n",
       "      <th>memory_capacity</th>\n",
       "    </tr>\n",
       "  </thead>\n",
       "  <tbody>\n",
       "    <tr>\n",
       "      <th>0</th>\n",
       "      <td>macaque</td>\n",
       "      <td>True</td>\n",
       "      <td>1</td>\n",
       "      <td>bio_rank</td>\n",
       "      <td>0.000001</td>\n",
       "      <td>0.6</td>\n",
       "      <td>0.91</td>\n",
       "      <td>6.131167</td>\n",
       "    </tr>\n",
       "    <tr>\n",
       "      <th>1</th>\n",
       "      <td>macaque</td>\n",
       "      <td>True</td>\n",
       "      <td>1</td>\n",
       "      <td>bio_rank</td>\n",
       "      <td>0.000001</td>\n",
       "      <td>0.6</td>\n",
       "      <td>0.93</td>\n",
       "      <td>6.148464</td>\n",
       "    </tr>\n",
       "    <tr>\n",
       "      <th>2</th>\n",
       "      <td>macaque</td>\n",
       "      <td>True</td>\n",
       "      <td>1</td>\n",
       "      <td>bio_rank</td>\n",
       "      <td>0.000001</td>\n",
       "      <td>0.6</td>\n",
       "      <td>0.95</td>\n",
       "      <td>6.287349</td>\n",
       "    </tr>\n",
       "  </tbody>\n",
       "</table>\n",
       "</div>"
      ],
      "text/plain": [
       "  connectome  rand_partition  neuron_density         W  input_scaling  \\\n",
       "0    macaque            True               1  bio_rank       0.000001   \n",
       "1    macaque            True               1  bio_rank       0.000001   \n",
       "2    macaque            True               1  bio_rank       0.000001   \n",
       "\n",
       "   leak_rate  spectral_radius  memory_capacity  \n",
       "0        0.6             0.91         6.131167  \n",
       "1        0.6             0.93         6.148464  \n",
       "2        0.6             0.95         6.287349  "
      ]
     },
     "execution_count": 4,
     "metadata": {},
     "output_type": "execute_result"
    }
   ],
   "source": [
    "# Drop columns that do not vary\n",
    "results = results.drop(columns=[\"n_transient\", \"bias\"])\n",
    "results = results.rename(columns={\"mean_test_memory_capacity\": \"memory_capacity\"})\n",
    "results.head(3)"
   ]
  },
  {
   "cell_type": "code",
   "execution_count": 5,
   "metadata": {},
   "outputs": [
    {
     "data": {
      "text/plain": [
       "(array(['macaque', 'marmoset', 'human'], dtype=object),\n",
       " array([ True, False]),\n",
       " array([1.e-06, 1.e-05, 1.e-04, 1.e-03, 1.e-02, 1.e-01, 1.e+00]))"
      ]
     },
     "execution_count": 5,
     "metadata": {},
     "output_type": "execute_result"
    }
   ],
   "source": [
    "(results.connectome.unique(),\n",
    "results.rand_partition.unique(),\n",
    "results.input_scaling.unique(),)"
   ]
  },
  {
   "cell_type": "code",
   "execution_count": 6,
   "metadata": {},
   "outputs": [
    {
     "data": {
      "text/html": [
       "<div>\n",
       "<style scoped>\n",
       "    .dataframe tbody tr th:only-of-type {\n",
       "        vertical-align: middle;\n",
       "    }\n",
       "\n",
       "    .dataframe tbody tr th {\n",
       "        vertical-align: top;\n",
       "    }\n",
       "\n",
       "    .dataframe thead th {\n",
       "        text-align: right;\n",
       "    }\n",
       "</style>\n",
       "<table border=\"1\" class=\"dataframe\">\n",
       "  <thead>\n",
       "    <tr style=\"text-align: right;\">\n",
       "      <th></th>\n",
       "      <th>connectome</th>\n",
       "      <th>rand_partition</th>\n",
       "      <th>neuron_density</th>\n",
       "      <th>W</th>\n",
       "      <th>input_scaling</th>\n",
       "      <th>leak_rate</th>\n",
       "      <th>spectral_radius</th>\n",
       "      <th>memory_capacity</th>\n",
       "    </tr>\n",
       "  </thead>\n",
       "  <tbody>\n",
       "    <tr>\n",
       "      <th>0</th>\n",
       "      <td>Macaque</td>\n",
       "      <td>True</td>\n",
       "      <td>1</td>\n",
       "      <td>Bio (rank)</td>\n",
       "      <td>0.000001</td>\n",
       "      <td>0.6</td>\n",
       "      <td>0.91</td>\n",
       "      <td>6.131167</td>\n",
       "    </tr>\n",
       "    <tr>\n",
       "      <th>1</th>\n",
       "      <td>Macaque</td>\n",
       "      <td>True</td>\n",
       "      <td>1</td>\n",
       "      <td>Bio (rank)</td>\n",
       "      <td>0.000001</td>\n",
       "      <td>0.6</td>\n",
       "      <td>0.93</td>\n",
       "      <td>6.148464</td>\n",
       "    </tr>\n",
       "    <tr>\n",
       "      <th>2</th>\n",
       "      <td>Macaque</td>\n",
       "      <td>True</td>\n",
       "      <td>1</td>\n",
       "      <td>Bio (rank)</td>\n",
       "      <td>0.000001</td>\n",
       "      <td>0.6</td>\n",
       "      <td>0.95</td>\n",
       "      <td>6.287349</td>\n",
       "    </tr>\n",
       "  </tbody>\n",
       "</table>\n",
       "</div>"
      ],
      "text/plain": [
       "  connectome  rand_partition  neuron_density           W  input_scaling  \\\n",
       "0    Macaque            True               1  Bio (rank)       0.000001   \n",
       "1    Macaque            True               1  Bio (rank)       0.000001   \n",
       "2    Macaque            True               1  Bio (rank)       0.000001   \n",
       "\n",
       "   leak_rate  spectral_radius  memory_capacity  \n",
       "0        0.6             0.91         6.131167  \n",
       "1        0.6             0.93         6.148464  \n",
       "2        0.6             0.95         6.287349  "
      ]
     },
     "execution_count": 6,
     "metadata": {},
     "output_type": "execute_result"
    }
   ],
   "source": [
    "results = refactor_names(\n",
    "    df=results,\n",
    "    capitalize_cols=[\"connectome\"],\n",
    "    to_rename=None\n",
    ")\n",
    "results.head(3)"
   ]
  },
  {
   "cell_type": "code",
   "execution_count": 33,
   "metadata": {},
   "outputs": [
    {
     "name": "stdout",
     "output_type": "stream",
     "text": [
      "CPU times: user 57.9 s, sys: 896 ms, total: 58.8 s\n",
      "Wall time: 57.8 s\n"
     ]
    }
   ],
   "source": [
    "%%time\n",
    "connectomes = [\"Macaque\", \"Human\", \"Marmoset\"]\n",
    "rand_partitions = [True, False,]\n",
    "for connectome, rand_partition in product(connectomes, rand_partitions):\n",
    "    data = results[(results.connectome == connectome) &\n",
    "                   (results.rand_partition == rand_partition)]\n",
    "\n",
    "    g = plot.hyperparams_grid(\n",
    "        data=data,\n",
    "        x=\"spectral_radius\",\n",
    "        y=\"memory_capacity\",\n",
    "        palette=my_palette,\n",
    "        #facet_kws={\"ylim\": (-2.5, 1)}\n",
    "    )\n",
    "    \n",
    "    g.set_axis_labels(y_var=\"Memory capacity\", x_var=r\"Spectral radius ($\\rho$)\",)\n",
    "    set_facetgrid_titles(\n",
    "        g,\n",
    "        col_template=r'Input scaling ($\\epsilon$) = {col_name}',\n",
    "        row_template=r\"Leak rate ($\\alpha$) = {row_name}\", \n",
    "        size=23\n",
    "    )\n",
    "    \n",
    "    g.fig.subplots_adjust(wspace=0.1, hspace=.003)\n",
    "    plt.suptitle(f\"{connectome}\", x=.45, y=1., fontsize=40)\n",
    "    g.savefig(\n",
    "        figs_path\n",
    "        /f\"hyperparams/neuron-density-{neuron_density}\"\n",
    "        /f\"{connectome}_rand-part-{rand_partition}\"\n",
    "    )\n",
    "    plt.close()"
   ]
  }
 ],
 "metadata": {
  "kernelspec": {
   "display_name": "Python 3",
   "language": "python",
   "name": "python3"
  },
  "language_info": {
   "codemirror_mode": {
    "name": "ipython",
    "version": 3
   },
   "file_extension": ".py",
   "mimetype": "text/x-python",
   "name": "python",
   "nbconvert_exporter": "python",
   "pygments_lexer": "ipython3",
   "version": "3.8.5"
  }
 },
 "nbformat": 4,
 "nbformat_minor": 4
}
