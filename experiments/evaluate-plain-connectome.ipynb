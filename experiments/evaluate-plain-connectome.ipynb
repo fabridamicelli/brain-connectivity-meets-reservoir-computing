{
 "cells": [
  {
   "cell_type": "markdown",
   "metadata": {},
   "source": [
    "Evaluate connectome as networks with the experimental weights directly (instead of only using mask).  \n",
    "Normalize weights by sum of incoming weights."
   ]
  },
  {
   "cell_type": "code",
   "execution_count": 36,
   "metadata": {
    "slideshow": {
     "slide_type": "skip"
    }
   },
   "outputs": [],
   "source": [
    "from functools import partial\n",
    "from pathlib import Path\n",
    "\n",
    "from sklearn.model_selection import train_test_split, GridSearchCV\n",
    "from sklearn.metrics import r2_score\n",
    "#from imports_paper_plots import *\n",
    "\n",
    "from echoes import ESNRegressor\n",
    "\n",
    "from bioRNN.tasks.memory.capacity import make_X_y, forgetting\n",
    "from bioRNN.utils import make_bioRRNs, load_connectome\n",
    "\n",
    "#set_context_and_font()\n",
    "#set_rcParams_color()"
   ]
  },
  {
   "cell_type": "code",
   "execution_count": 14,
   "metadata": {},
   "outputs": [],
   "source": [
    "def forgetting_R2(y_true, y_pred):\n",
    "    assert y_pred.shape == y_true.shape, \"y_pred and y_true must have same shape\"\n",
    "    assert y_pred.shape[0] > 1, \"Error while computing forgetting: y_pred has less than 1 sample. Increase the number of samples (steps)\"\n",
    "    r2s = []\n",
    "    for true, pred in zip(y_true.T, y_pred.T):        \n",
    "        r2s.append(r2_score(true, pred))\n",
    "    return r2s, np.sum(r2s)    "
   ]
  },
  {
   "cell_type": "code",
   "execution_count": 102,
   "metadata": {},
   "outputs": [
    {
     "data": {
      "text/plain": [
       "((4000, 1), (1000, 1), (4000, 15), (1000, 15))"
      ]
     },
     "execution_count": 102,
     "metadata": {},
     "output_type": "execute_result"
    }
   ],
   "source": [
    "lags=np.arange(1, 16)\n",
    "X, y = make_X_y(\n",
    "    make_X=partial(np.random.uniform, low=-.5, high=.5, size=5_000),\n",
    "    lags=lags,\n",
    "    cut=0\n",
    ")\n",
    "X_train, X_test, y_train, y_test = train_test_split(X, y, shuffle=False, test_size=.2)\n",
    "X_train.shape, X_test.shape, y_train.shape, y_test.shape"
   ]
  },
  {
   "cell_type": "code",
   "execution_count": 103,
   "metadata": {},
   "outputs": [],
   "source": [
    "from sklearn.preprocessing import normalize, scale"
   ]
  },
  {
   "cell_type": "code",
   "execution_count": 168,
   "metadata": {},
   "outputs": [],
   "source": [
    "W = make_bioRRNs(connectome_name=\"macaque\", rand_partition=True, neuron_density=1)[\"W_bio_rank\"]\n",
    "\n",
    "W = np.random.lognormal(size=W.shape)\n",
    "W = np.random.exponential(size=W.shape)\n",
    "W = np.random.zipf(1.5, size=W.shape) * .00001"
   ]
  },
  {
   "cell_type": "code",
   "execution_count": null,
   "metadata": {},
   "outputs": [],
   "source": []
  },
  {
   "cell_type": "code",
   "execution_count": 169,
   "metadata": {},
   "outputs": [
    {
     "data": {
      "text/plain": [
       "(array([431., 197.,  90.,  52.,  27.,  17.,  16.,   7.,   2.,   2.]),\n",
       " array([-5.        , -4.54021952, -4.08043903, -3.62065855, -3.16087806,\n",
       "        -2.70109758, -2.24131709, -1.78153661, -1.32175613, -0.86197564,\n",
       "        -0.40219516]),\n",
       " <BarContainer object of 10 artists>)"
      ]
     },
     "execution_count": 169,
     "metadata": {},
     "output_type": "execute_result"
    },
    {
     "data": {
      "image/png": "[encoded data removed]",
      "text/plain": [
       "<Figure size 432x288 with 1 Axes>"
      ]
     },
     "metadata": {
      "needs_background": "light"
     },
     "output_type": "display_data"
    }
   ],
   "source": [
    "#plt.hist(np.log10(W.flat))\n",
    "plt.hist(np.log10(W.flat))\n",
    "#plt.xscale(\"log\")\n",
    "#plt.yscale(\"log\")"
   ]
  },
  {
   "cell_type": "code",
   "execution_count": 170,
   "metadata": {},
   "outputs": [
    {
     "data": {
      "text/plain": [
       "dtype('float64')"
      ]
     },
     "execution_count": 170,
     "metadata": {},
     "output_type": "execute_result"
    }
   ],
   "source": [
    "W.dtype"
   ]
  },
  {
   "cell_type": "code",
   "execution_count": 171,
   "metadata": {},
   "outputs": [],
   "source": [
    "#W = load_connectome(\"macaque\")\n",
    "#W = np.array([row / row.sum() for row in W.T])\n",
    "\n",
    "n_transient = 100\n",
    "y_pred = (ESNRegressor(W=W,\n",
    "                       n_transient=n_transient, \n",
    "                       spectral_radius=.99,\n",
    "                       input_scaling=.01,)\n",
    "          .fit(X_train, y_train)\n",
    "          .predict(X_test))\n",
    "\n",
    "forget_curve, mc = forgetting(y_test[n_transient:], y_pred[n_transient:])\n",
    "forget_curve_2, mc2 = forgetting_R2(y_test[n_transient:], y_pred[n_transient:])"
   ]
  },
  {
   "cell_type": "code",
   "execution_count": 172,
   "metadata": {},
   "outputs": [
    {
     "name": "stdout",
     "output_type": "stream",
     "text": [
      "5.241611050155623 5.141651356181775\n"
     ]
    },
    {
     "data": {
      "image/png": "[encoded data removed]",
      "text/plain": [
       "<Figure size 432x288 with 1 Axes>"
      ]
     },
     "metadata": {
      "needs_background": "light"
     },
     "output_type": "display_data"
    }
   ],
   "source": [
    "plt.plot(forget_curve[:10])\n",
    "plt.plot(forget_curve_2[:10])\n",
    "print(mc, mc2)"
   ]
  },
  {
   "cell_type": "code",
   "execution_count": null,
   "metadata": {},
   "outputs": [],
   "source": []
  },
  {
   "cell_type": "code",
   "execution_count": null,
   "metadata": {},
   "outputs": [],
   "source": []
  }
 ],
 "metadata": {
  "kernelspec": {
   "display_name": "Python 3",
   "language": "python",
   "name": "python3"
  },
  "language_info": {
   "codemirror_mode": {
    "name": "ipython",
    "version": 3
   },
   "file_extension": ".py",
   "mimetype": "text/x-python",
   "name": "python",
   "nbconvert_exporter": "python",
   "pygments_lexer": "ipython3",
   "version": "3.8.5"
  }
 },
 "nbformat": 4,
 "nbformat_minor": 4
}
