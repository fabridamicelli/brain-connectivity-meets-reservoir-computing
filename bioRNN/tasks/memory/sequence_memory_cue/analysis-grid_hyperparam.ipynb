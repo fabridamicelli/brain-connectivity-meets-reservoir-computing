{
 "cells": [
  {
   "cell_type": "code",
   "execution_count": 1,
   "metadata": {},
   "outputs": [],
   "source": [
    "%load_ext autoreload\n",
    "%autoreload 2\n",
    "\n",
    "\n",
    "import os\n",
    "from pathlib import Path\n",
    "\n",
    "import pandas as pd\n",
    "import matplotlib.pyplot as plt\n",
    "import numpy as np\n",
    "\n",
    "from bioRNN.utils import get_best_params"
   ]
  },
  {
   "cell_type": "code",
   "execution_count": 32,
   "metadata": {},
   "outputs": [],
   "source": [
    "DIR_RES = (\n",
    "    Path(os.environ[\"DATAICNS\"])\n",
    "    / \"bioRNN/sequence-memory-cue/gridsearch_hyperparams\"\n",
    ")\n",
    "\n",
    "def aggregate_results_connectomes(    \n",
    "    dir_res=None,\n",
    "    connectomes = [\"human\", \"macaque\", \"marmoset\"],\n",
    "    pattern_lengths = [5, 10, 15, 20, 25],\n",
    "):    \n",
    "    \"\"\"\n",
    "    Aggregate results for all pattern lengths of the connectomes.\n",
    "    Return dict {connectome: results}\n",
    "    \"\"\"\n",
    "    aggregated_results = {}\n",
    "    for connectome in connectomes:\n",
    "        results = []\n",
    "        for pattern_length in pattern_lengths:\n",
    "            result = pd.read_csv(dir_res / f\"{connectome}_patlen{pattern_length}.csv\")\n",
    "            result.insert(0, \"pattern_length\", [pattern_length] * len(result))                \n",
    "            results.append(result)\n",
    "        results = pd.concat(results)\n",
    "        print(results.head(3))\n",
    "        aggregated_results[connectome] = results    \n",
    "    return aggregated_results"
   ]
  },
  {
   "cell_type": "code",
   "execution_count": 33,
   "metadata": {},
   "outputs": [
    {
     "name": "stdout",
     "output_type": "stream",
     "text": [
      "   pattern_length      W  input_scaling  leak_rate  spectral_radius        r2  \\\n",
      "0               5  W_bio   1.000000e-08        0.8             0.80  0.881306   \n",
      "1               5  W_bio   1.000000e-08        0.8             0.85  0.969576   \n",
      "2               5  W_bio   1.000000e-08        0.8             0.90  0.837752   \n",
      "\n",
      "        mse  \n",
      "0  0.009995  \n",
      "1  0.002562  \n",
      "2  0.013663  \n",
      "   pattern_length      W  input_scaling  leak_rate  spectral_radius        r2  \\\n",
      "0               5  W_bio   1.000000e-08        0.8             0.80  0.604593   \n",
      "1               5  W_bio   1.000000e-08        0.8             0.85  0.803515   \n",
      "2               5  W_bio   1.000000e-08        0.8             0.90  0.652280   \n",
      "\n",
      "        mse  \n",
      "0  0.033620  \n",
      "1  0.016707  \n",
      "2  0.029566  \n",
      "   pattern_length      W  input_scaling  leak_rate  spectral_radius        r2  \\\n",
      "0               5  W_bio   1.000000e-08        0.8             0.80  0.703263   \n",
      "1               5  W_bio   1.000000e-08        0.8             0.85  0.893575   \n",
      "2               5  W_bio   1.000000e-08        0.8             0.90  0.757638   \n",
      "\n",
      "        mse  \n",
      "0  0.024585  \n",
      "1  0.008818  \n",
      "2  0.020080  \n"
     ]
    }
   ],
   "source": [
    "results_agg = aggregate_results_connectomes(dir_res=DIR_RES)              "
   ]
  },
  {
   "cell_type": "code",
   "execution_count": 31,
   "metadata": {},
   "outputs": [
    {
     "data": {
      "text/html": [
       "<div>\n",
       "<style scoped>\n",
       "    .dataframe tbody tr th:only-of-type {\n",
       "        vertical-align: middle;\n",
       "    }\n",
       "\n",
       "    .dataframe tbody tr th {\n",
       "        vertical-align: top;\n",
       "    }\n",
       "\n",
       "    .dataframe thead th {\n",
       "        text-align: right;\n",
       "    }\n",
       "</style>\n",
       "<table border=\"1\" class=\"dataframe\">\n",
       "  <thead>\n",
       "    <tr style=\"text-align: right;\">\n",
       "      <th></th>\n",
       "      <th>input_scaling</th>\n",
       "      <th>spectral_radius</th>\n",
       "      <th>leak_rate</th>\n",
       "    </tr>\n",
       "  </thead>\n",
       "  <tbody>\n",
       "    <tr>\n",
       "      <th>human</th>\n",
       "      <td>0.000001</td>\n",
       "      <td>1.0</td>\n",
       "      <td>1.0</td>\n",
       "    </tr>\n",
       "    <tr>\n",
       "      <th>macaque</th>\n",
       "      <td>0.000001</td>\n",
       "      <td>1.0</td>\n",
       "      <td>1.0</td>\n",
       "    </tr>\n",
       "    <tr>\n",
       "      <th>marmoset</th>\n",
       "      <td>0.000001</td>\n",
       "      <td>1.0</td>\n",
       "      <td>1.0</td>\n",
       "    </tr>\n",
       "  </tbody>\n",
       "</table>\n",
       "</div>"
      ],
      "text/plain": [
       "          input_scaling  spectral_radius  leak_rate\n",
       "human          0.000001              1.0        1.0\n",
       "macaque        0.000001              1.0        1.0\n",
       "marmoset       0.000001              1.0        1.0"
      ]
     },
     "execution_count": 31,
     "metadata": {},
     "output_type": "execute_result"
    }
   ],
   "source": [
    "pd.DataFrame({connectome: get_best_params(results) for connectome, results in results_agg.items()}).T"
   ]
  }
 ],
 "metadata": {
  "kernelspec": {
   "display_name": "Python 3",
   "language": "python",
   "name": "python3"
  },
  "language_info": {
   "codemirror_mode": {
    "name": "ipython",
    "version": 3
   },
   "file_extension": ".py",
   "mimetype": "text/x-python",
   "name": "python",
   "nbconvert_exporter": "python",
   "pygments_lexer": "ipython3",
   "version": "3.7.6"
  }
 },
 "nbformat": 4,
 "nbformat_minor": 4
}
