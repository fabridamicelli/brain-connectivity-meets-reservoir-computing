{
 "cells": [
  {
   "cell_type": "code",
   "execution_count": 1,
   "metadata": {
    "slideshow": {
     "slide_type": "skip"
    }
   },
   "outputs": [],
   "source": [
    "from functools import partial\n",
    "\n",
    "from sklearn.model_selection import train_test_split, GridSearchCV\n",
    "from sklearn.metrics import r2_score\n",
    "from sklearn.preprocessing import normalize, scale\n",
    "import numpy as np\n",
    "import matplotlib.pyplot as plt\n",
    "from echoes import ESNRegressor\n",
    "\n",
    "from bioRNN.tasks.memory.capacity import make_X_y, forgetting"
   ]
  },
  {
   "cell_type": "code",
   "execution_count": 2,
   "metadata": {},
   "outputs": [
    {
     "data": {
      "text/plain": [
       "((4000, 1), (1000, 1), (4000, 15), (1000, 15))"
      ]
     },
     "execution_count": 2,
     "metadata": {},
     "output_type": "execute_result"
    }
   ],
   "source": [
    "lags = np.arange(1, 16)\n",
    "X, y = make_X_y(\n",
    "    make_X=partial(np.random.uniform, low=-.5, high=.5, size=5_000),\n",
    "    lags=lags,\n",
    "    cut=0\n",
    ")\n",
    "X_train, X_test, y_train, y_test = train_test_split(X, y, shuffle=False, test_size=.2)\n",
    "X_train.shape, X_test.shape, y_train.shape, y_test.shape"
   ]
  },
  {
   "cell_type": "code",
   "execution_count": 3,
   "metadata": {},
   "outputs": [],
   "source": [
    "# Make artificial connectome\n",
    "shape = (100, 100)\n",
    "W = np.random.lognormal(size=shape)"
   ]
  },
  {
   "cell_type": "code",
   "execution_count": 4,
   "metadata": {},
   "outputs": [],
   "source": [
    "n_transient = 100\n",
    "y_pred = (ESNRegressor(W=W,\n",
    "                       n_transient=n_transient, \n",
    "                       spectral_radius=.99,\n",
    "                       input_scaling=.01,)\n",
    "          .fit(X_train, y_train)\n",
    "          .predict(X_test))\n",
    "\n",
    "forget_curve, memory_capacity = forgetting(y_test[n_transient:], y_pred[n_transient:])"
   ]
  },
  {
   "cell_type": "code",
   "execution_count": 5,
   "metadata": {},
   "outputs": [
    {
     "name": "stdout",
     "output_type": "stream",
     "text": [
      "5.065351290538669\n"
     ]
    },
    {
     "data": {
      "image/png": "[encoded data removed]",
      "text/plain": [
       "<Figure size 640x480 with 1 Axes>"
      ]
     },
     "metadata": {},
     "output_type": "display_data"
    }
   ],
   "source": [
    "plt.plot(forget_curve[:10])\n",
    "print(memory_capacity)"
   ]
  },
  {
   "cell_type": "code",
   "execution_count": null,
   "metadata": {},
   "outputs": [],
   "source": []
  },
  {
   "cell_type": "code",
   "execution_count": null,
   "metadata": {},
   "outputs": [],
   "source": []
  }
 ],
 "metadata": {
  "kernelspec": {
   "display_name": "Python 3 (ipykernel)",
   "language": "python",
   "name": "python3"
  },
  "language_info": {
   "codemirror_mode": {
    "name": "ipython",
    "version": 3
   },
   "file_extension": ".py",
   "mimetype": "text/x-python",
   "name": "python",
   "nbconvert_exporter": "python",
   "pygments_lexer": "ipython3",
   "version": "3.9.19"
  }
 },
 "nbformat": 4,
 "nbformat_minor": 4
}
